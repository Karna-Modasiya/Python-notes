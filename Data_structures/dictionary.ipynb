{
 "cells": [
  {
   "cell_type": "code",
   "execution_count": null,
   "id": "c5b7f9d6",
   "metadata": {},
   "outputs": [],
   "source": [
    "# A dictionary is a collection of key-value pairs.\n",
    "# Keys → must be unique and hashable.\n",
    "# Values → can be of any data type (mutable or immutable).\n",
    "# From Python 3.7+: Ordered (insertion order preserved)."
   ]
  },
  {
   "cell_type": "code",
   "execution_count": 10,
   "id": "bf0e6c79",
   "metadata": {},
   "outputs": [
    {
     "name": "stdout",
     "output_type": "stream",
     "text": [
      "{'name': 'karna', 'age': 24}\n",
      "<class 'dict'>\n"
     ]
    }
   ],
   "source": [
    "# Creating Dictionary\n",
    "d = {}\n",
    "d = {\"a\" : 23, \"b\": 43} # normal way\n",
    "d = dict([(\"1\",2),(\"4\",5)]) # from list of tuples\n",
    "d = dict(name=\"karna\",age= 24) # from kargs\n",
    "\n",
    "print(d)\n",
    "print(type(d))"
   ]
  },
  {
   "cell_type": "code",
   "execution_count": 17,
   "id": "c23f6374",
   "metadata": {},
   "outputs": [
    {
     "name": "stdout",
     "output_type": "stream",
     "text": [
      "karna\n",
      "karna\n",
      "Not Exist\n"
     ]
    }
   ],
   "source": [
    "# Accessing Elements\n",
    "print(d[\"name\"])\n",
    "print(d.get(\"name\"))\n",
    "print(d.get(\"firstname\",\"Not Exist\"))"
   ]
  },
  {
   "cell_type": "code",
   "execution_count": null,
   "id": "1d5a695b",
   "metadata": {},
   "outputs": [
    {
     "name": "stdout",
     "output_type": "stream",
     "text": [
      "{}\n"
     ]
    }
   ],
   "source": [
    "# Adding Updating and remvoing elements\n",
    "\n",
    "d[\"married\"] = False\n",
    "d[\"gender\"] = \"Male\"\n",
    "\n",
    "d.update({})\n",
    "\n",
    "# del d[\"age\"]\n",
    "d.pop(\"married\") # return the error or default value passed as second argument\n",
    "d.popitem() # removes the last element\n",
    "d.clear() # remove all elements\n",
    "\n",
    "print(d)"
   ]
  },
  {
   "cell_type": "code",
   "execution_count": null,
   "id": "18966110",
   "metadata": {},
   "outputs": [
    {
     "name": "stdout",
     "output_type": "stream",
     "text": [
      "dict_keys(['name', 'age', 'married', 'gender'])\n",
      "dict_values(['Karna', 34, False, 'Male'])\n",
      "dict_items([('name', 'Karna'), ('age', 34), ('married', False), ('gender', 'Male')])\n"
     ]
    }
   ],
   "source": [
    "d = {\"name\":\"Karna\", \"age\": 34, \"married\": False, \"gender\": \"Male\"}\n",
    "\n",
    "print(d.keys())\n",
    "print(d.values())\n",
    "print(d.items())\n",
    "d_copy = d.copy() #shallow copy\n"
   ]
  },
  {
   "cell_type": "code",
   "execution_count": null,
   "id": "178e5f50",
   "metadata": {},
   "outputs": [
    {
     "name": "stdout",
     "output_type": "stream",
     "text": [
      "{(1, 2): 'tuple key'}\n"
     ]
    }
   ],
   "source": [
    "d = {(1, 2): \"tuple key\"}\n",
    "print(d)\n",
    "# Tuple can be added in dictionary key because that can be hashable"
   ]
  },
  {
   "cell_type": "code",
   "execution_count": null,
   "id": "197d5761",
   "metadata": {},
   "outputs": [],
   "source": []
  }
 ],
 "metadata": {
  "kernelspec": {
   "display_name": "myenv",
   "language": "python",
   "name": "python3"
  },
  "language_info": {
   "codemirror_mode": {
    "name": "ipython",
    "version": 3
   },
   "file_extension": ".py",
   "mimetype": "text/x-python",
   "name": "python",
   "nbconvert_exporter": "python",
   "pygments_lexer": "ipython3",
   "version": "3.11.4"
  }
 },
 "nbformat": 4,
 "nbformat_minor": 5
}
