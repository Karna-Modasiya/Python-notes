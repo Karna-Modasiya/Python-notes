{
 "cells": [
  {
   "cell_type": "code",
   "execution_count": null,
   "id": "ea5bd40d",
   "metadata": {},
   "outputs": [],
   "source": [
    "# A tuple is an ordered, immutable collection in Python.\n",
    "# Similar to lists, but cannot be changed (no append, remove, etc.).\n",
    "# Can store mixed data types (numbers, strings, objects, etc.)."
   ]
  },
  {
   "cell_type": "code",
   "execution_count": 3,
   "id": "9272f6c5",
   "metadata": {},
   "outputs": [
    {
     "name": "stdout",
     "output_type": "stream",
     "text": [
      "<class 'tuple'>\n"
     ]
    }
   ],
   "source": [
    "# Intilization\n",
    "t = tuple() \n",
    "t = 1,2,4 # Python automatically packes them in tuple\n",
    "t = (1,2) \n",
    "t = (1,) # Have to add , if there is only one element otherwise it will be converted to datatype of value\n",
    "t = ()\n",
    "print(type(t))"
   ]
  },
  {
   "cell_type": "code",
   "execution_count": 8,
   "id": "203055c7",
   "metadata": {},
   "outputs": [
    {
     "name": "stdout",
     "output_type": "stream",
     "text": [
      "4\n",
      "hello\n",
      "(1, 3, 4, 'hello')\n",
      "('hello', 4, 3, 1)\n"
     ]
    }
   ],
   "source": [
    "# Accessing Elements\n",
    "t = (1,3,4,\"hello\")\n",
    "print(t[2])\n",
    "print(t[-1])\n",
    "print(t[:])\n",
    "print(t[::-1])"
   ]
  },
  {
   "cell_type": "code",
   "execution_count": null,
   "id": "221f0ea5",
   "metadata": {},
   "outputs": [
    {
     "name": "stdout",
     "output_type": "stream",
     "text": [
      "(1, 2, 4, 5)\n",
      "(1, 2, 1, 2, 1, 2)\n",
      "True\n"
     ]
    }
   ],
   "source": [
    "# Tuple Operations\n",
    "# we can't edit elements tuple after creation\n",
    "a = (1,2);b = (4,5)\n",
    "print(a+b)\n",
    "print(a*3)\n",
    "print(2 in a+b)"
   ]
  },
  {
   "cell_type": "code",
   "execution_count": 13,
   "id": "000a2dcb",
   "metadata": {},
   "outputs": [
    {
     "name": "stdout",
     "output_type": "stream",
     "text": [
      "2\n",
      "3\n"
     ]
    }
   ],
   "source": [
    "# Tuple Methods\n",
    "t = (1,3,2,4,2,3,4,5)\n",
    "print(t.count(2))\n",
    "print(t.index(4))"
   ]
  },
  {
   "cell_type": "code",
   "execution_count": 14,
   "id": "ff755206",
   "metadata": {},
   "outputs": [
    {
     "name": "stdout",
     "output_type": "stream",
     "text": [
      "8\n",
      "5\n",
      "1\n",
      "24\n",
      "[1, 2, 2, 3, 3, 4, 4, 5]\n"
     ]
    }
   ],
   "source": [
    "# Python built in function with tuples\n",
    "print(len(t))\n",
    "print(max(t))\n",
    "print(min(t))\n",
    "print(sum(t))\n",
    "print(sorted(t))"
   ]
  },
  {
   "cell_type": "code",
   "execution_count": null,
   "id": "79e58341",
   "metadata": {},
   "outputs": [
    {
     "name": "stdout",
     "output_type": "stream",
     "text": [
      "(1, 2, 3)\n",
      "<class 'tuple'>\n",
      "1 2 3\n"
     ]
    }
   ],
   "source": [
    "# Packing and unpacking\n",
    "# Packing\n",
    "t = 1,2,3\n",
    "print(t)\n",
    "print(type(t))\n",
    "\n",
    "# Unpacking\n",
    "a,b,c = t\n",
    "print(a,b,c)"
   ]
  },
  {
   "cell_type": "code",
   "execution_count": null,
   "id": "2711317a",
   "metadata": {},
   "outputs": [],
   "source": [
    "# Use Tuple when:\n",
    "# Ordered = elements keep the same sequence you define, and you can access them by index.\n",
    "# Data should not change (e.g., coordinates, days of week).\n",
    "# For dictionary keys (tuples are hashable, lists are not).\n",
    "# For better performance (tuples are faster & use less memory).\n",
    "\n",
    "# Use List when:\n",
    "# You need to modify (add/remove/update) items."
   ]
  }
 ],
 "metadata": {
  "kernelspec": {
   "display_name": "myenv",
   "language": "python",
   "name": "python3"
  },
  "language_info": {
   "codemirror_mode": {
    "name": "ipython",
    "version": 3
   },
   "file_extension": ".py",
   "mimetype": "text/x-python",
   "name": "python",
   "nbconvert_exporter": "python",
   "pygments_lexer": "ipython3",
   "version": "3.11.4"
  }
 },
 "nbformat": 4,
 "nbformat_minor": 5
}
