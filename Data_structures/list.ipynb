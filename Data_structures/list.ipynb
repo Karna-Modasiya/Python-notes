{
 "cells": [
  {
   "cell_type": "code",
   "execution_count": null,
   "id": "4f3e22e7",
   "metadata": {},
   "outputs": [],
   "source": [
    "# List = ordered, mutable, can hold multiple types.\n",
    "# Supports slicing, updating, deletion, and many methods.\n",
    "# List comprehensions = concise way to build new lists with loops + conditions.\n",
    "\n",
    "# List Declaration\n",
    "l1 = list()\n",
    "l1 = []"
   ]
  },
  {
   "cell_type": "code",
   "execution_count": null,
   "id": "9ea9c976",
   "metadata": {},
   "outputs": [
    {
     "name": "stdout",
     "output_type": "stream",
     "text": [
      "banana\n",
      "kiwi\n",
      "1\n",
      "1\n",
      "3\n"
     ]
    }
   ],
   "source": [
    "# Accessing the elements\n",
    "# Python also supports negative indexing that simply means if you pass negative index python will find the index from the end side\n",
    "fruits = [\"apple\", \"banana\", \"kiwi\"]\n",
    "print(fruits[1])\n",
    "print(fruits[-1])\n",
    "print(fruits.index(\"banana\")) # Find the first index of value\n",
    "# print(fruits.index(\"kela\")) # throw error if not found\n",
    "print(fruits.count(\"banana\")) # count all occurrence of element\n",
    "\n",
    "# Lenght of list \n",
    "print(len(fruits))"
   ]
  },
  {
   "cell_type": "code",
   "execution_count": 29,
   "id": "33baa5d5",
   "metadata": {},
   "outputs": [
    {
     "name": "stdout",
     "output_type": "stream",
     "text": [
      "[]\n"
     ]
    }
   ],
   "source": [
    "# Modifying the list\n",
    "\n",
    "# Insertion\n",
    "fruits.append(\"orange\") # insert one element at the end\n",
    "fruits.extend([\"watermelon\", \"pineapple\"]) # insert multiple elements at the end of list\n",
    "fruits.insert(3,\"dragon fruit\") # Insert element at the specifid index\n",
    "\n",
    "# Removal of elements\n",
    "fruits.remove(\"watermelon\") # Removes the first occurrence of element\n",
    "fruits.pop(3) # remove the specific element from list and return it \n",
    "del fruits[3] # remove specific index element\n",
    "fruits.clear() # empty the list\n",
    "print(fruits)\n"
   ]
  },
  {
   "cell_type": "code",
   "execution_count": 26,
   "id": "19804ebe",
   "metadata": {},
   "outputs": [
    {
     "name": "stdout",
     "output_type": "stream",
     "text": [
      "[30, 40, 50]\n",
      "[10, 30, 40, 50, 20]\n",
      "[30, 40, 50, 20]\n",
      "[10, 30, 40]\n",
      "[10, 40, 20]\n"
     ]
    }
   ],
   "source": [
    "# Slicing the list \n",
    "nums = [10,30,40,50,20]\n",
    "\n",
    "print(nums[1:4]) # print list from index 1 to 4 \n",
    "print(nums[:]) # print complete list\n",
    "print(nums[1:]) # print list from index 1 to end\n",
    "print(nums[:3]) # print list from start to index 3\n",
    "print(nums[::2]) # print list from start to end with skip of 1 element\n"
   ]
  },
  {
   "cell_type": "code",
   "execution_count": null,
   "id": "5644c994",
   "metadata": {},
   "outputs": [
    {
     "name": "stdout",
     "output_type": "stream",
     "text": [
      "[1, 3, 1, 2, 6]\n",
      "[1, 3, 1, 3, 1, 3]\n",
      "['apple', 'banana', 'kiwi']\n",
      "['apple', 'banana', 'kiwi']\n",
      "['kiwi', 'banana', 'apple']\n",
      "['apple', 'banana', 'kiwi']\n"
     ]
    }
   ],
   "source": [
    "# List operations\n",
    "l1 = [1,3]\n",
    "l2 = [1,2,6]\n",
    "fruits = [\"apple\", \"banana\", \"kiwi\"]\n",
    "\n",
    "print(l1+l2) # new list with all the elements of both list\n",
    "print(l1*3) # multiply occurrance of each element in list\n",
    "fruits.sort() # do inplace sort means given list will be sorted\n",
    "print(fruits) \n",
    "print(sorted(fruits)) # return new list with sorted elements\n",
    "fruits.reverse() # do reverse inplace means in the same list\n",
    "print(fruits)\n",
    "print(list(reversed(fruits))) # return the list object of reversed elements had to convert it to list"
   ]
  },
  {
   "cell_type": "code",
   "execution_count": null,
   "id": "dfc0afab",
   "metadata": {},
   "outputs": [
    {
     "name": "stdout",
     "output_type": "stream",
     "text": [
      "kiwi\n",
      "banana\n",
      "apple\n",
      "0 kiwi\n",
      "1 banana\n",
      "2 apple\n",
      "0\n",
      "1\n",
      "2\n",
      "3\n",
      "4\n",
      "5\n",
      "1\n",
      "3\n",
      "5\n"
     ]
    }
   ],
   "source": [
    "# Iterating the list \n",
    "\n",
    "for fruit in fruits:\n",
    "    print(fruit)\n",
    "\n",
    "# Using index\n",
    "for i in range(len(fruits)):\n",
    "    print(i, fruits[i])\n",
    "\n",
    "for i in range(6):# range function will give the list till given number -1\n",
    "    print(i)\n",
    "    \n",
    "# for i in range(1,6): # in range we can pass the start of range and end of range and also pass the steps value\n",
    "for i in range(1,6,2):\n",
    "    print(i)"
   ]
  },
  {
   "cell_type": "code",
   "execution_count": null,
   "id": "2b6bd7a0",
   "metadata": {},
   "outputs": [
    {
     "name": "stdout",
     "output_type": "stream",
     "text": [
      "[0, 1, 2, 3, 4]\n",
      "[0, 2, 4]\n",
      "[0, 'Hell', 2, 'Hell', 4, 'Hell']\n",
      "[(0, 0), (0, 1), (0, 2), (0, 3), (0, 4), (0, 5), (1, 0), (1, 1), (1, 2), (1, 3), (1, 4), (1, 5)]\n"
     ]
    }
   ],
   "source": [
    "# List Comprehensions\n",
    "\n",
    "print([i for i in range(5)]) # list comprehensions\n",
    "print([i for i in range(6) if i%2==0]) # with if condition\n",
    "print([i if i%2==0 else \"Hell\" for i in range(6)]) # with if else condition\n",
    "print([(i,j) for i in range(2) for j in range(6)]) # nested loops"
   ]
  },
  {
   "cell_type": "code",
   "execution_count": null,
   "id": "485ea672",
   "metadata": {},
   "outputs": [],
   "source": []
  },
  {
   "cell_type": "code",
   "execution_count": null,
   "id": "6991c534",
   "metadata": {},
   "outputs": [],
   "source": []
  }
 ],
 "metadata": {
  "kernelspec": {
   "display_name": "myenv",
   "language": "python",
   "name": "python3"
  },
  "language_info": {
   "codemirror_mode": {
    "name": "ipython",
    "version": 3
   },
   "file_extension": ".py",
   "mimetype": "text/x-python",
   "name": "python",
   "nbconvert_exporter": "python",
   "pygments_lexer": "ipython3",
   "version": "3.11.4"
  }
 },
 "nbformat": 4,
 "nbformat_minor": 5
}
